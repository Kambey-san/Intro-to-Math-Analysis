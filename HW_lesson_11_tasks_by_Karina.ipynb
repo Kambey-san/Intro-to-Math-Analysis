{
 "cells": [
  {
   "cell_type": "markdown",
   "id": "1622b2c6",
   "metadata": {},
   "source": [
    "## Введение в математический анализ\n",
    "### Урок 11. Интеграл. Ряды. Часть 2"
   ]
  },
  {
   "cell_type": "markdown",
   "id": "e0456de0",
   "metadata": {},
   "source": [
    "### Задания к занятию №11"
   ]
  },
  {
   "cell_type": "markdown",
   "id": "6fdb235d",
   "metadata": {},
   "source": [
    "### 1. Решить уравнения:\n",
    "$1.$ ${\\color{blue}{y'-y=2x-3}}$\n",
    "\n",
    "${\\color{green}{(1)}}$ ${\\color{green}{y'-{\\color{red}{1}y=2x-3}}}$\n",
    "\n",
    "${\\color{green}{(2.1)}}$ ${{\\color{green}{P(x)=-1}}}$\n",
    "\n",
    "${\\color{green}{(2.2)}}$ ${\\color{green}{Q(x)=2x-3}}$\n",
    "\n",
    "${\\color{green}{(3.1)}}$ ${\\color{green}{u(x)=e^{\\int-1dx}}}$\n",
    "\n",
    "${\\color{green}{(3.2)}}$ ${\\color{green}{Q(x)=2x-3}}$\n",
    "\n",
    "${\\color{green}{(4.1)}}$ ${\\color{green}{u(x)=\\frac{1}{e^x}}}$\n",
    "\n",
    "${\\color{green}{(4.2)}}$ ${\\color{green}{Q(x)=2x-3}}$\n",
    "\n",
    "${\\color{green}{(5)}}$ ${\\color{green}{y=\\frac{1}{\\frac{1}{e^x}} \\int (2x-3) \\frac{1}{e^x}dx =e^x \\int\\frac{2x-3}{e^x}dx= e^x(-2xe^{-x}-2e^{-x}+\\frac{3}{e^x}+C)}}$\n",
    "\n",
    "${\\color{green}{(6)}}$ ${\\color{red}{e^x*()=>}}$ ${\\color{green}{y=-e^x*2xe^{-x}-e^x*2e^{-x}+e^x*\\frac{3}{e^x}+Ce^x=>}}$\n",
    "\n",
    "$y=-2x-2+3+Ce^x=1-2x+Ce^x$"
   ]
  },
  {
   "cell_type": "markdown",
   "id": "e590e9df",
   "metadata": {},
   "source": [
    "$2.$ ${\\color{blue}{x^2y'+xy+1=0}}$\n",
    "\n",
    "${\\color{green}{(1)}}$ ${\\color{green}{x^2y'+xy=-1}}$\n",
    "\n",
    "${\\color{green}{(2)}}$ ${\\color{green}{y'+\\frac{y}{x}=-\\frac{1}{x^2}}}$\n",
    "\n",
    "${\\color{green}{(3)}}$ ${\\color{green}{y'+\\frac{1}{x}y=-\\frac{1}{x^2}}}$\n",
    "\n",
    "${\\color{green}{(4.1)}}$ ${\\color{green}{P(x)=\\frac{1}{x}}}$\n",
    "\n",
    "${\\color{green}{(4.2)}}$ ${\\color{green}{Q(x)=-\\frac{1}{x^2}}}$\n",
    "\n",
    "${\\color{green}{(5.1)}}$ ${\\color{green}{u(x)=e^{ln(x)}=x}}$\n",
    "\n",
    "${\\color{green}{(5.2)}}$ ${\\color{green}{Q(x)=-\\frac{1}{x^2}}}$\n",
    "\n",
    "${\\color{green}{(6)}}$ ${\\color{green}{y=\\frac{1}{x}\\int-\\frac{1}{x^2}x}}$ ${\\color{green}{dx}}$ ${\\color{green}{=\\frac{1}{x}\\int-\\frac{1}{x}}}$ ${\\color{green}{dx}}$\n",
    "\n",
    "${\\color{green}{(7)}}$ ${\\color{green}{y=\\frac{1}{x}(-ln(|x|)+C)}}$\n",
    "\n",
    "${\\color{green}{(8)}}$ ${\\color{red}{*\\frac{1}{x}=>}}$ ${\\color{green}{y=-\\frac{1}{x}ln(|x|)+\\frac{1}{x}*C}}$\n",
    "\n",
    "$y=-\\frac{ln(|x|)}{x}+\\frac{C}{x}$"
   ]
  },
  {
   "cell_type": "markdown",
   "id": "7d4ac926",
   "metadata": {},
   "source": [
    "### 2. Исследовать ряд на сходимость:\n",
    "$1.$ ${\\color{blue}{\\displaystyle \\sum_{n=1}^{\\infty} \\frac{n+2}{n^2+n+1}}}$ \n",
    "\n",
    "${\\color{green}{(1)}}$ ${\\color{green}{f(x)=\\frac{x+2}{x^2+x+1}}}$\n",
    "\n",
    "${\\color{green}{(2)}}$ ${\\color{green}{\\int\\limits_{1}^{+\\infty} \\frac{x+2}{x^2+x+1}dx}}$\n",
    "\n",
    "${\\color{green}{(3)}}$ ${\\color{green}{\\displaystyle \\lim_{a \\to +\\infty}(\\int\\limits_{1}^{a}\\frac{x+2}{x^2+x+1}dx)}}$\n",
    "\n",
    "${\\color{green}{(4)}}$ ${\\color{green}{\\displaystyle \\lim_{a \\to +\\infty}{(\\frac{1}{2}ln(|a^2+a+1|)+\\sqrt{3}}}}$ ${\\color{green}{arctan}}$ ${\\color{green}{(\\frac{2\\sqrt{3}a+\\sqrt{3}}{3})-\\frac{1}{2}ln(3)}}{\\color{green}{\\frac{\\sqrt{3}\\pi}{3} \\to +\\infty =>}}$ $интеграл$ $расходится$ $=>$ $ряд$ $расходится$\n",
    "\n",
    "\n",
    "\n",
    "\n"
   ]
  },
  {
   "cell_type": "markdown",
   "id": "1fbc2222",
   "metadata": {},
   "source": [
    "$2.$ ${\\color{blue}{\\displaystyle \\sum_{n=1}^{\\infty} \\frac{n^n}{n!}}}$ \n",
    "\n",
    "${\\color{green}{(1)}}$ ${\\color{green}{\\displaystyle \\lim_{n \\to +\\infty}}}$ ${\\color{green}{(|\\frac{\\frac{(n+1)^{n+1}}{(n+1)!}}{\\frac{n^n}{n!}}|)=>}}$ ${\\color{green}{\\displaystyle \\lim_{n \\to +\\infty}}}$ ${\\color{green}{(\\frac{\\frac{(n+1)^{n+1}}{(n+1)!}}{\\frac{n^n}{n!}})}}$ \n",
    "\n",
    "${\\color{green}{(2)}}$ ${\\color{green}{\\displaystyle \\lim_{n \\to +\\infty}}}$ ${\\color{green}{(\\frac{(n+1)^{n+1}*n!}{(n+1)!*n^n})=}}$ ${\\color{green}{(\\frac{(n+1)^{n+1}*n!}{(n+1)*n!*n^n})=}}$ ${\\color{green}{(\\frac{n+1}{n})^n=}}$ ${\\color{green}{(1+\\frac{1}{n})^n=}}$ $e=>$ \n",
    "$значение$ $предела>1$ $=>$ $ряд$ $расходится$"
   ]
  },
  {
   "cell_type": "markdown",
   "id": "0e7b855a",
   "metadata": {},
   "source": [
    "$3.$ ${\\color{blue}{\\displaystyle \\sum_{n=1}^{\\infty} n(1-\\frac{1}{n})^{n^2}}}$ \n",
    "\n",
    "${\\displaystyle \\lim_{n \\to \\infty}}$ $\\sqrt[n]{n}$ $*$ ${\\displaystyle \\lim_{n \\to \\infty}{\\sqrt[n]{((1-\\frac{1}{n})^n)^n}=}}$ ${\\displaystyle \\lim_{n \\to \\infty}{(1-\\frac{1}{n})^n}=e^{-1}=>}$\n",
    "$значение$ $предела<1$ $=>$ $ряд$ $сходится$"
   ]
  },
  {
   "cell_type": "markdown",
   "id": "64cf6fe5",
   "metadata": {},
   "source": [
    "$4.$ ${\\color{blue}{\\displaystyle \\sum_{n=1}^{\\infty} \\frac{(-1)^{n+1}}{2n-ln(n)}}}$ \n",
    "\n",
    "${\\color{green}{(1)}}$ ${\\color{green}{\\frac{1}{2};}}$ ${\\color{green}{-\\frac{1}{4-ln(2)};}}$ ${\\color{green}{\\frac{1}{6-ln(3)}}}$\n",
    "\n",
    "${\\color{green}{(2)}}$ ${\\color{green}{\\displaystyle \\lim_{n \\to \\infty}}}$\n",
    "${\\color{green}{\\frac{1}{2n-ln(n)}}}$ ${\\color{green}{-по}}$ ${\\color{green}{признаку}}$ ${\\color{green}{Лейбница:}}$\n",
    "\n",
    "${\\color{green}{(2.1)}}$ ${\\color{green}{\\frac{1}{2}>}}$ ${\\color{green}{\\frac{1}{4-ln(2)}>}}$ ${\\color{green}{\\frac{1}{6-ln(3)}}}$ $-каждый$ $последующий$ $член$ $ряда$ $меньше$ $предыдущего$\n",
    "\n",
    "${\\color{green}{(2.2)}}$ ${\\color{green}{\\displaystyle \\lim_{n \\to \\infty} \\frac{1}{2n-ln(n)}=0}}$\n",
    "$-предел$ $стремится$ $к$ 0\n",
    "\n",
    "${\\color{green}{(3)}}$ ${\\color{red}{\\displaystyle \\sum_{n=1}^{\\infty} \\frac{1}{n}}<=>}$ ${\\color{green}{\\displaystyle \\lim_{n \\to \\infty} \\frac{\\frac{1}{2n-ln(n)}}{\\frac{1}{n}}=\\frac{1}{2}}}$  $\\neq 0$\n",
    "\n",
    "$Ответ:$  $ряд$ $сходится$ $по$ $признаку$ $Лейбница,$ $ряд$ $расходится$ $при$ $сравениии$ $с$ $расходящимся$ $рядом=>$\n",
    "$ряд$ $сходится$ $условно.$"
   ]
  },
  {
   "cell_type": "markdown",
   "id": "d3350f4f",
   "metadata": {},
   "source": [
    "$5.$ ${\\color{blue}{\\displaystyle \\sum_{n=1}^{\\infty} \\frac{(x-2)^{n+1}}{3^n(n+2)}}}$ \n",
    "\n",
    "${\\color{green}{(1)}}$ ${\\color{green}{\\displaystyle \\lim_{n \\to \\infty}(|\\frac{\\frac{(x-2)^{n+1+1}}{3^{n+1}(n+1+2)}}{{\\frac{(x-2)^{n+1}}{3^n(n+2)}}}|)=}}$ ${\\color{green}{(|\\frac{(x-2)(n+2)}{3(n+1+2)}|)=}}$ ${\\color{green}{(|\\frac{(x-2)(n+2)}{3(n+3)}|)=}}$ ${\\color{green}{(|\\frac{x-2}{3}*\\frac{n+2}{n+3}|)=}}$ ${\\color{green}{(|\\frac{x-2}{3}|*|\\frac{n+2}{n+3}|)}}$\n",
    "\n",
    "${\\color{green}{(2)}}$ ${\\color{green}{|\\frac{x-2}{3}|}}$ ${\\color{green}{*\\displaystyle \\lim_{n \\to \\infty}(\\frac {n+2}{n+3})=|\\frac{x-2}{3}|*1}}$\n",
    "\n",
    "${\\color{green}{(3)}}$ ${\\color{green}{|\\frac{x-2}{3}|<1=>}}$ ${\\color{green}{|x-2|<3}}$ \n",
    "\n",
    "$Ответ:$ $по$ $признаку$ $Даламбера$ $ряд$ $сходится,$ $радиус$ $сходимости$ $R=3$"
   ]
  }
 ],
 "metadata": {
  "kernelspec": {
   "display_name": "Python 3 (ipykernel)",
   "language": "python",
   "name": "python3"
  },
  "language_info": {
   "codemirror_mode": {
    "name": "ipython",
    "version": 3
   },
   "file_extension": ".py",
   "mimetype": "text/x-python",
   "name": "python",
   "nbconvert_exporter": "python",
   "pygments_lexer": "ipython3",
   "version": "3.10.5"
  }
 },
 "nbformat": 4,
 "nbformat_minor": 5
}
