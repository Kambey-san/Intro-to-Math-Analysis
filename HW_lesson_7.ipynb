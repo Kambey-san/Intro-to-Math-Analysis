{
 "cells": [
  {
   "cell_type": "markdown",
   "id": "58b7d438",
   "metadata": {},
   "source": [
    "# Введение в математический анализ"
   ]
  },
  {
   "cell_type": "markdown",
   "id": "0f3438b7",
   "metadata": {},
   "source": [
    "## Урок 7. Производная функции одной переменной. Часть 2"
   ]
  },
  {
   "cell_type": "markdown",
   "id": "3c8ef3fc",
   "metadata": {},
   "source": [
    "### № 1.  Найти длину $x$  и ширину $y$ прямоугольника при заданном периметре $P=144$ $см$, при которых данный прямоугольник имеет наибольшую площадь $S$.\n",
    "\n",
    "$\\begin{cases}\n",
    "  2(x + y) = 144 \\\\\n",
    "  S = xy\n",
    "\\end{cases}$\n",
    "\n",
    "$\\begin{cases}\n",
    "  y = 72 - x\\\\\n",
    "  S(x) = 72x - x^2\n",
    "\\end{cases}$\n",
    "\n",
    "$S' = 72 - 2x$\n",
    "\n",
    "$72 - 2x = 0$\n",
    "\n",
    "$x = 36$\n",
    "\n",
    "$\\begin{cases}\n",
    "  x = 36 \\\\\n",
    "  y = 36\n",
    "\\end{cases}$\n"
   ]
  },
  {
   "cell_type": "markdown",
   "id": "44c22da7",
   "metadata": {},
   "source": [
    "### № 2. Найти экстремумы функций (если они есть)"
   ]
  },
  {
   "cell_type": "markdown",
   "id": "a0f65e11",
   "metadata": {},
   "source": [
    "$(1)$  $y = |2x|$\n",
    "\n",
    "$Производные: y' = 2; y'' = -2$\n",
    "\n",
    "$y' \\neq 0; y''\\neq 0 \\implies \\text{глобальных экстремумов нет }$\n",
    "\n",
    "$ $"
   ]
  },
  {
   "cell_type": "markdown",
   "id": "44c39878",
   "metadata": {},
   "source": [
    "$(2)$ $y = {x^2}$\n",
    "\n",
    "$Производные:$ \n",
    "\n",
    "$y' = 2x \\to 2*x = 0 \\to x_1 = 0 \\to$ $функция$ $f(0) = 0$ \n",
    "\n",
    "$y'' = 2$\n",
    "$ y''(0) = 2 \\to y'' > 0  \\to$ $точка$  $x= 0$ $-$ $точка$ $минимума$ $функции$\n",
    "\n",
    "$ $"
   ]
  },
  {
   "cell_type": "markdown",
   "id": "f724930c",
   "metadata": {},
   "source": [
    "$(3)$ $y = {e^{3x}}$\n",
    "\n",
    "$y' \\neq 0 \\implies \\text{глобальных экстремумов нет }$\n",
    "\n",
    "$ $"
   ]
  },
  {
   "cell_type": "markdown",
   "id": "d1f52910",
   "metadata": {},
   "source": [
    "$(4)$ $y = {x^3 - 5x}$\n",
    "\n",
    "$Производные:$ \n",
    "\n",
    "$y' = 3 *x^2-5 = 0 \\to$ $x_1 = -1.291;$  $x_2 = \\frac{\\sqrt{15}}{3}$   \n",
    "\n",
    "$Значения$ $функции:$ \n",
    "\n",
    "$f_{max}(-1.291) = 4.303$\n",
    "\n",
    "$f_{min}(\\frac{\\sqrt{15}}{3}) = -10\\frac{\\sqrt{15}}{3}$\n",
    "\n",
    "$ $\n",
    "\n",
    "$y'' = 6x$\n",
    "\n",
    "$y''(-1.291) = -7.746<0 \\to$ $точка$ $x = -1.291$ $-$ $точка$ $максимума$ $функции$\n",
    "\n",
    "$y''\\frac{\\sqrt{15}}{3} = 2\\frac{\\sqrt{15}}{3}$ $>$ $0$ $-$ $точка$ $минимума$ $функции$"
   ]
  }
 ],
 "metadata": {
  "kernelspec": {
   "display_name": "Python 3 (ipykernel)",
   "language": "python",
   "name": "python3"
  },
  "language_info": {
   "codemirror_mode": {
    "name": "ipython",
    "version": 3
   },
   "file_extension": ".py",
   "mimetype": "text/x-python",
   "name": "python",
   "nbconvert_exporter": "python",
   "pygments_lexer": "ipython3",
   "version": "3.10.5"
  }
 },
 "nbformat": 4,
 "nbformat_minor": 5
}
