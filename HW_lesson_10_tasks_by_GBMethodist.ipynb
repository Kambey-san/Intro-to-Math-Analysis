{
 "cells": [
  {
   "cell_type": "markdown",
   "id": "2d47d367",
   "metadata": {},
   "source": [
    "## Введение в математический анализ"
   ]
  },
  {
   "cell_type": "markdown",
   "id": "c1eeee05",
   "metadata": {},
   "source": [
    "### Урок 10. Интеграл. Ряды. Часть 1"
   ]
  },
  {
   "cell_type": "markdown",
   "id": "5e5a7429",
   "metadata": {},
   "source": [
    "### Тема “Ряды”"
   ]
  },
  {
   "cell_type": "markdown",
   "id": "575356be",
   "metadata": {},
   "source": [
    "1. Исследовать ряд на сходимость, используя признак д’Аламбера:  \n",
    "$\\displaystyle \\sum_{n=1}^{\\infty} \\frac{n^n}{(n!)^2}$  \n",
    "$\\displaystyle \\lim_{n \\to \\infty} \\frac{a_{n + 1}}{a_n} = \\displaystyle \\lim_{n \\to \\infty} \\frac{(n + 1)^{n + 1}}{((n + 1)!)^2} : \\frac{n^n}{(n!)^2} = \\displaystyle \\lim_{n \\to \\infty} \\frac{(n +1)^{n + 1}}{(n + 1)^2 \\cdot n^n} = \\displaystyle \\lim_{n \\to \\infty} \\frac{\\left (\\frac{n +1}{n}\\right)^n}{n + 1} = \\displaystyle \\lim_{n \\to \\infty} \\frac{e}{n + 1} = 0 < 1$\n"
   ]
  },
  {
   "cell_type": "markdown",
   "id": "1a104789",
   "metadata": {},
   "source": [
    "2. Исследовать ряд на сходимость, используя радикальный признак Коши:  \n",
    "$\\displaystyle \\sum_{n=1}^{\\infty} \\frac{n}{2^n}$  \n",
    "$\\displaystyle \\lim_{n \\to \\infty} \\sqrt[n]{a_n} = \\displaystyle \\lim_{n \\to \\infty} \\sqrt[n]{\\frac{n}{2^n}} =\\displaystyle \\lim_{n \\to \\infty} \\frac{\\sqrt[n]{n}}{2} = \\frac{1}{2} < 1$  \n",
    "$\\displaystyle \\lim_{n \\to \\infty} \\frac{a_{n + 1}}{a_n} = \\displaystyle \\lim_{n \\to \\infty} \\frac{n + 1}{2^{n + 1}} : \\frac{n}{2^n} = \\displaystyle \\lim_{n \\to \\infty} \\frac{n + 1}{2n} = \\frac{1}{2} <1$  "
   ]
  },
  {
   "cell_type": "markdown",
   "id": "714acd3e",
   "metadata": {},
   "source": [
    "3. Исследовать ряд на сходимость, используя признак Лейбница:  \n",
    "$\\displaystyle \\sum_{n=1}^{\\infty} \\frac{(-1)^n}{n + \\ln{n}}$  \n",
    "\n",
    "$\\begin{cases}\n",
    "    \\displaystyle \\lim_{n \\to \\infty} |a_n| = 0 \\\\\n",
    "    |a_{n + 1}| < |a_n| \\\\\n",
    "    \\displaystyle \\sum_{n=1}^{\\infty} \\frac{1}{n + \\ln{n}} \\sim 0 \\left( \\frac{1}{n^1} \\right) \n",
    "\\end{cases}$\n",
    "\n",
    "$\\displaystyle \\sum_{n=1}^{\\infty} \\frac{(-1)^n}{n + \\ln{n}} \\text{− сходится условно}$  "
   ]
  },
  {
   "cell_type": "markdown",
   "id": "650099c1",
   "metadata": {},
   "source": [
    "4. Исследовать ряд на сходимость, используя признак Раабе:  \n",
    "$\\displaystyle \\sum_{n=1}^{\\infty} \\frac{3^n}{2^n}$  \n",
    "$\\displaystyle \\lim_{n \\to \\infty} n \\left( \\frac{a_n}{a_{n + 1}} - 1 \\right) = \\displaystyle \\lim_{n \\to \\infty} n \\left( \\frac{3^n}{2^n} : \\frac{3^{n + 1}}{2^{n + 1}} - 1 \\right) = \\displaystyle \\lim_{n \\to \\infty} n \\left( - \\frac{1}{3} \\right) = -\\infty < 1$   \n",
    "$\\displaystyle \\lim_{n \\to \\infty} \\frac{a_{n + 1}}{a_n} = \\displaystyle \\lim_{n \\to \\infty} \\frac{3^{n + 1}}{2^{n + 1}} : \\frac{3^n}{2^n} = \\frac{3}{2} > 1$"
   ]
  },
  {
   "cell_type": "markdown",
   "id": "10a799e8",
   "metadata": {},
   "source": [
    "5. Разложить функцию по Тейлору в единице:  \n",
    "$f(x) = \\ln{(16x^2)}$  \n",
    "$\\ln{(16x^2)} = \\frac{\\ln{16}}{0!}(x - 1)^0 + \\frac{2}{1!}(x - 2)^1 - \\frac{2}{2!}(x - 1)^2 + \\frac{2 \\cdot 2}{3!}(x - 1)^3 - \\frac{2 \\cdot 3!}{4!}(x - 1)^4 +\\cdots = \\ln{16} + 2 \\displaystyle \\sum_{n=1}^{\\infty} (-1)^{n - 1} \\frac{(x - 1)^n}{n}$  \n",
    "\n",
    "$(\\ln{(16x^2)})' = \\frac{2}{x}$  \n",
    "$(\\ln{(16x^2)})'' = - \\frac{2}{x^2}$  \n",
    "$(\\ln{(16x^2)})''' = \\frac{2 \\cdot 2}{x^3}$  \n",
    "$(\\ln{(16x^2)})^{IV} = - \\frac{2 \\cdot 2 \\cdot 3}{x^4}$"
   ]
  },
  {
   "cell_type": "markdown",
   "id": "a8b69272",
   "metadata": {},
   "source": [
    "6. \\* Дана функция: $f(x) = x^2$  \n",
    "\n",
    "a. Разложить функцию в ряд Фурье по косинусам на отрезке $x \\in [-\\pi; \\pi]$  \n",
    "b. Построить график функции и ее разложения.\n",
    "\n",
    "a. $a_0 = \\frac{1}{2\\pi} \\int\\limits_{-\\pi}^{\\pi} f(x) {\\mathrm dx} = \\frac{1}{2\\pi}\\int\\limits_{-\\pi}^{\\pi} x^2{\\mathrm dx} = \\frac{1}{2\\pi} \\left. \\left( \\frac{x^3}{3} \\right)  \\right|_{-\\pi}^{\\pi} = \\frac{\\pi^3}{6\\pi} - \\frac{(-\\pi)^3}{6\\pi} = \\frac{2\\pi^3}{6\\pi} = \\frac{\\pi^2}{3}$  \n",
    "$a_n = \\frac{1}{\\pi} \\int\\limits_{-\\pi}^{\\pi} f(x) \\cos{(nx)}{\\mathrm dx} = \\frac{1}{\\pi} \\int\\limits_{-\\pi}^{\\pi} x^2 \\cos{(nx)} {\\mathrm dx} = \\left. \\left( \\frac{1}{\\pi n} x^2 \\sin{(nx)} \\right)  \\right|_{-\\pi}^{\\pi} - \\left. \\frac{2}{\\pi n} \\right|_{-\\pi}^{\\pi} x \\sin{(nx)}{\\mathrm dx} =$  \n",
    "\n",
    "$\\begin{array}{l}\n",
    "    {\\color{red}{U = x^2}} & {\\color{red} {\\implies {\\mathrm dU} = 2x {\\mathrm dx}}} \\\\  \n",
    "    {\\color{red}{{\\mathrm dV} = \\cos{(nx)}{\\mathrm dx}}} & {\\color{red} {\\implies V = \\frac{1}{n} \\sin{(nx)}}}\n",
    "\\end{array}$  \n",
    "\n",
    "$= - \\frac{2}{\\pi n} \\int\\limits_{-\\pi}^{\\pi} x \\sin{(nx)}{\\mathrm dx} = \\left. \\left( \\frac{2}{\\pi n^2} x \\cos{(nx)} \\right)  \\right|_{-\\pi}^{\\pi} -\\frac{2}{\\pi n^2} \\int\\limits_{-\\pi}^{\\pi} \\cos{(nx)}{\\mathrm dx} =$\n",
    "\n",
    "$\\begin{array}{l}\n",
    "    {\\color{red}{U = x}} & {\\color{red} {\\implies {\\mathrm dU} = {\\mathrm dx}}} \\\\  \n",
    "    {\\color{red}{{\\mathrm dV} = \\sin{(nx)}{\\mathrm dx}}} & {\\color{red} {\\implies V = - \\frac{1}{n} \\cos{(nx)}}}\n",
    "\\end{array}$  \n",
    "\n",
    "$= \\frac{2}{\\pi n^2} \\pi \\cos{(\\pi n)} - \\frac{2}{\\pi n^2} (- \\pi) \\cos{(\\pi n)} = 4 \\frac{(-1)^n}{n^2}$\n",
    "\n",
    "$b_n = \\frac{1}{\\pi} \\int\\limits_{-\\pi}^{\\pi} f(x) \\sin{(nx)}{\\mathrm dx} = \\frac{1}{\\pi} \\int\\limits_{-\\pi}^{\\pi} x^2 \\sin{(nx)}{\\mathrm dx} = \\left. \\left( -\\frac{1}{\\pi n} x^2 \\cos{(nx)} \\right)  \\right|_{-\\pi}^{\\pi} + \\frac{2}{\\pi n} \\int\\limits_{-\\pi}^{\\pi} x \\cos{(nx)}{\\mathrm dx} =$ \n",
    "\n",
    "$\\begin{array}{l}\n",
    "    {\\color{red}{U = x^2}} & {\\color{red} {\\implies {\\mathrm dU} = 2x{\\mathrm dx}}} \\\\  \n",
    "    {\\color{red}{{\\mathrm dV} = \\sin{(nx)}{\\mathrm dx}}} & {\\color{red} {\\implies V = - \\frac{1}{n} \\cos{(nx)}}}\n",
    "\\end{array}$  \n",
    "\n",
    "$=\\frac{2}{\\pi n} \\int\\limits_{-\\pi}^{\\pi} x \\cos{(nx)}{\\mathrm dx} = \\left. \\left( \\frac{2}{\\pi n^2} x \\sin{(nx)} \\right)  \\right|_{-\\pi}^{\\pi} - \\frac{2}{\\pi n^2} \\int\\limits_{-\\pi}^{\\pi} \\sin{(nx)}{\\mathrm dx} =$\n",
    "\n",
    "$\\begin{array}{l}\n",
    "    {\\color{red}{U = x}} & {\\color{red} {\\implies {\\mathrm dU} = {\\mathrm dx}}} \\\\  \n",
    "    {\\color{red}{{\\mathrm dV} = \\cos{(nx)}{\\mathrm dx}}} & {\\color{red} {\\implies V =  \\frac{1}{n} \\sin{(nx)}}}\n",
    "\\end{array}$  \n",
    "\n",
    "$= \\left. \\left( \\frac{2}{\\pi n^3} \\cos{(nx)} \\right)  \\right|_{-\\pi}^{\\pi} = \\frac{2}{\\pi n^3} \\cos{(n \\pi)} - \\frac{2}{\\pi n^3} \\cos{(n \\pi)} = 0$\n",
    "\n",
    "$x^2 = \\frac{\\pi^2}{3} \\displaystyle \\sum_{n=1}^{\\infty} \\left(  4 \\frac{(-1)^n}{n^2} \\cdot \\cos{(nx) + 0 \\cdot \\sin{(nx)}}\\right)$\n",
    "\n",
    "b. \n",
    "График https://www.desmos.com/calculator/cmm5rpaegp?lang=ru\n"
   ]
  },
  {
   "cell_type": "markdown",
   "id": "a9ab92e7",
   "metadata": {},
   "source": [
    "### Тема “Понятие об интеграле”"
   ]
  },
  {
   "cell_type": "markdown",
   "id": "bc64e89d",
   "metadata": {},
   "source": [
    "1. Найти неопределенный интеграл:\n",
    "${\\color{blue}{\\displaystyle \\int(2x^2-2x-1+sin{x}-cos{x}+ln{x}+e^x)dx =}}$\n",
    "$=\\displaystyle \\int sin({x})dx+\\displaystyle \\int ln({x})dx-\\displaystyle \\int cos({x})dx+\\displaystyle \\int{e^x}dx+2 \\displaystyle \\int {x^2}dx-2\\displaystyle \\int {x}dx - \\displaystyle \\int {1}dx$\n",
    "\n",
    "${(1)\\color{green}{\\displaystyle \\int sin({x})dx = - cos{x}}}$\n",
    "\n",
    "${(2)\\color{green}{\\displaystyle \\int ln({x})dx = x*ln{x}-x}}$\n",
    "\n",
    "${(3)\\color{green}{\\displaystyle \\int cos({x})dx = sin{x}}}$\n",
    "\n",
    "${(4)\\color{green}{\\displaystyle \\int ({e^x})dx =\\int{e^x}}} {\\color{red}{{}<=>\\displaystyle \\int (a^x)dx = \\int\\frac{a^x}{ln(a)}, a=e}}$\n",
    "\n",
    "${(5)\\color{green}{\\displaystyle \\int ({x^2})dx =\\int\\frac{x^3}{3}}} {\\color{red}{{}<=>\\displaystyle \\int (x^n)dx = \\int\\frac{x^{n+1}}{n+1}, n=2}}$\n",
    "\n",
    "${(6)\\color{green}{\\displaystyle \\int ({x})dx =\\int\\frac{x^2}{2}}} {\\color{red}{{}<=>{n=1}}}$\n",
    "\n",
    "${(7)\\color{green}{\\displaystyle \\int {1}dx = 1}}$\n",
    "\n",
    "$\\displaystyle \\int sin({x})dx+\\displaystyle \\int ln({x})dx-\\displaystyle \\int cos({x})dx+\\displaystyle \\int{e^x}dx+2 \\displaystyle \\int {x^2}dx-2\\displaystyle \\int {x}dx - \\displaystyle \\int {1}dx = -sin(x)+x*ln(x)-cos(x)+e^x+\\frac{2x^3}{3}-x^2-2x+C$"
   ]
  },
  {
   "cell_type": "markdown",
   "id": "37369222",
   "metadata": {},
   "source": [
    "2. Найти неопределенный интеграл:\n",
    "${\\color{blue}{\\displaystyle \\int(2x+6xz^2-5x^2y-3*ln(z))dx =}}$ \n",
    "\n",
    "$=\\displaystyle \\int(-5yx^2+6z^2x+2x-3*ln(z))dx= -5y \\int x^2dx+(6z^2+2) \\int xdx-3*ln(z) \\int 1dx$\n",
    "\n",
    "${(1)\\color{green}{\\displaystyle \\int ({x^2})dx =\\int\\frac{x^3}{3}}} {\\color{red}{{}<=>\\displaystyle \\int (x^n)dx = \\int\\frac{x^{n+1}}{n+1}, n=2}}$\n",
    "\n",
    "${(2)\\color{green}{\\displaystyle \\int ({x})dx =\\int\\frac{x^2}{2}}} {\\color{red}{{}<=>{n=1}}}$\n",
    "\n",
    "${(3)\\color{green}{\\displaystyle \\int {1}dx = 1}}$\n",
    "\n",
    "$-5y \\int x^2dx+(6z^2+2) \\int xdx-3*ln(z) \\int 1dx= -\\frac {5xy^3}{3} +\\frac{(6z^2+2)x^2}{2} -3*ln(z)x +C $\n"
   ]
  },
  {
   "cell_type": "markdown",
   "id": "74f8714a",
   "metadata": {},
   "source": [
    "3. Вычислить определенный интеграл:\n",
    "${\\color{blue}{\\int\\limits_{0}^{\\pi}(3x^2sin(2x))dx}}=$\n",
    "\n",
    "$= 3 \\int x^2sin(2x)dx$\n",
    "\n",
    "${(1)\\color{green}{\\int x^2sin(2x)dx = -\\frac {x^2cos(2x)}{2} - \\int (-x*cos(2x))dx}}$\n",
    "\n",
    "${(2)\\color{green}{ \\int (-x*cos(2x))dx = -\\int x*cos(2x)dx}}$\n",
    "\n",
    "${(3)\\color{green}{\\int x*cos(2x)dx = \\frac{x*sin(2x)}{2} -\\int\\frac {sin(2x)}{2}dx}}$\n",
    "\n",
    "${(4)\\color{green}{\\int\\frac {sin(2x)}{2}dx = -\\frac{cos(2x)}{4}}}$\n",
    "\n",
    "${(5)\\color{green}{\\frac{x*sin(2x)}{2} -\\int\\frac {sin(2x)}{2}dx = \\frac {x*sin(2x)}{2} +\\frac{cos(2x)}{4}}}$\n",
    "\n",
    "${(6)\\color{green}{-\\int x*cos(2x)dx =-\\frac {x*sin(2x)}{2} -\\frac{cos(2x)}{4}}}$\n",
    "\n",
    "${(7)\\color{green}{ -\\frac {x^2cos(2x)}{2} - \\int (-x*cos(2x))dx = \\frac{x*sin(2x)}{2} -\\frac {x^2cos(2x)}{2}+\\frac{cos(2x)}{4}}}$\n",
    "\n",
    "$Т.о.,3 \\int x^2sin(2x)dx = \\frac{3x*sin(2x)}{2} -\\frac {3x^2cos(2x)}{2}+\\frac{3cos(2x)}{4} +C $\n",
    "\n",
    "$\\int\\limits_{0}^{\\pi} F(x)dx= 3 (-\\frac {2\\pi^2-1}{4}-\\frac{1}{4}) = -\\frac {3\\pi^2}{2} \\approx −14.8044$"
   ]
  },
  {
   "cell_type": "markdown",
   "id": "36d65ba4",
   "metadata": {},
   "source": [
    "4. Найти неопределенный интеграл:\n",
    "${\\color{blue}{\\displaystyle \\int \\frac {1}{\\sqrt {x+1}}dx =}}$\n",
    "\n",
    "$(1)$ ${\\color{green}{u=x+1 => \\frac {du}{dx}=1 => dx=du:}}$ \n",
    "\n",
    "$$= \\int \\frac{1}{\\sqrt{u}}du$$\n",
    "\n",
    "$(2)$ ${\\color{green}{\\int {u^n}du = \\frac {u^{n+1}}{n+1}}},$ ${\\color{green}{где}}$ ${\\color{green}{n = -\\frac{1}{2}:}}$\n",
    "\n",
    "$${\\color{green}{= 2\\sqrt{u}=>}}2\\sqrt{x+1}=>$$\n",
    "\n",
    "$=>\\displaystyle \\int \\frac {1}{\\sqrt {x+1}}dx = 2\\sqrt{x+1}+C$"
   ]
  }
 ],
 "metadata": {
  "kernelspec": {
   "display_name": "Python 3 (ipykernel)",
   "language": "python",
   "name": "python3"
  },
  "language_info": {
   "codemirror_mode": {
    "name": "ipython",
    "version": 3
   },
   "file_extension": ".py",
   "mimetype": "text/x-python",
   "name": "python",
   "nbconvert_exporter": "python",
   "pygments_lexer": "ipython3",
   "version": "3.10.5"
  }
 },
 "nbformat": 4,
 "nbformat_minor": 5
}
